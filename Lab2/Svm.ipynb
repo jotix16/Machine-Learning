{
 "cells": [
  {
   "cell_type": "markdown",
   "metadata": {
    "colab_type": "text",
    "id": "view-in-github"
   },
   "source": [
    "<a href=\"https://colab.research.google.com/github/jotix16/Machine-Learning/blob/master/Svm.ipynb\" target=\"_parent\"><img src=\"https://colab.research.google.com/assets/colab-badge.svg\" alt=\"Open In Colab\"/></a>"
   ]
  },
  {
   "cell_type": "code",
   "execution_count": 1,
   "metadata": {
    "colab": {
     "base_uri": "https://localhost:8080/",
     "height": 34
    },
    "colab_type": "code",
    "id": "woGZ5_qf2TTc",
    "outputId": "aa8a2b4c-3017-4bd3-b69a-bd290bd97569"
   },
   "outputs": [],
   "source": [
    "import numpy , random , math\n",
    "from scipy.optimize import minimize\n",
    "import matplotlib.pyplot as plt\n",
    "import pylab"
   ]
  },
  {
   "cell_type": "code",
   "execution_count": 11,
   "metadata": {
    "scrolled": true
   },
   "outputs": [],
   "source": [
    "def solve(N):\n",
    "    '''\n",
    "    Solves the optimization problem for SVM (!! no slack variables yet)\n",
    "    '''\n",
    "    global C\n",
    "    constraint={'type':'eq', 'fun':zerofun}\n",
    "    ret = minimize(objective , numpy.zeros([N,1]), bounds=[(0,C) for b in range(N)],constraints=constraint)\n",
    "    alpha = ret['x']\n",
    "    return alpha"
   ]
  },
  {
   "cell_type": "code",
   "execution_count": 3,
   "metadata": {},
   "outputs": [],
   "source": [
    "def kernel(x1,x2):\n",
    "    '''\n",
    "    Calculates one of three kernels for a pair of vectors.\n",
    "    (linear, polynomial and radial_basis)\n",
    "    '''\n",
    "    \n",
    "    global kernel_type, p, sigma\n",
    "    if kernel_type == \"polynomial\":\n",
    "        res = numpy.power((x1.dot(x2)+1),p)\n",
    "\n",
    "    elif kernel_type ==  \"radial_basis\":\n",
    "        res = numpy.exp(-0.5*numpy.linalg.norm(x1-x2)/sigma)\n",
    "\n",
    "    else:\n",
    "        res = x1.dot(x2);\n",
    "\n",
    "    return res"
   ]
  },
  {
   "cell_type": "code",
   "execution_count": 4,
   "metadata": {},
   "outputs": [],
   "source": [
    "def objective(a):\n",
    "    '''\n",
    "    Dual function to be minimized\n",
    "    '''\n",
    "    global P\n",
    "    a = a.reshape(len(a),1)\n",
    "    return 0.5*numpy.sum(a.dot(a.T)*P) - numpy.sum(a)\n",
    "    "
   ]
  },
  {
   "cell_type": "code",
   "execution_count": 5,
   "metadata": {},
   "outputs": [],
   "source": [
    "def zerofun(a):\n",
    "    '''\n",
    "    Encodes the equality constraint for the optimization problem\n",
    "    '''\n",
    "    global targets\n",
    "    return a.dot(targets)\n",
    "    "
   ]
  },
  {
   "cell_type": "code",
   "execution_count": 6,
   "metadata": {},
   "outputs": [],
   "source": [
    "def indicator(s):\n",
    "    '''\n",
    "    Returns the class point s is classified to\n",
    "    '''\n",
    "    global b\n",
    "    totsum = 0\n",
    "    for value in nonzero:\n",
    "        totsum += value[0] * value[2] * kernel(s, value[1])\n",
    "    return totsum - b"
   ]
  },
  {
   "cell_type": "code",
   "execution_count": 7,
   "metadata": {},
   "outputs": [],
   "source": [
    "def calc_b(nonzero):\n",
    "    '''\n",
    "    Calculates b after we have optimized for a\n",
    "    '''\n",
    "    bsum = 0\n",
    "    for value in nonzero:\n",
    "        bsum += value[0] * value[2] * kernel(value[1], nonzero[0][1])\n",
    "    print(value[2])\n",
    "    return bsum - nonzero[0][2]\n"
   ]
  },
  {
   "cell_type": "code",
   "execution_count": 146,
   "metadata": {},
   "outputs": [],
   "source": [
    "def visualize():\n",
    "    '''\n",
    "    Draws the conture that seperates the data based on SVM\n",
    "    '''\n",
    "    global kernel_type, C, p, sigma\n",
    "    \n",
    "    # Plot the data\n",
    "    plt.plot([p[0] for p in classA], [p[1] for p in classA], 'b.')\n",
    "    plt.plot([p[0] for p in classB], [p[1] for p in classB], 'r.')\n",
    "\n",
    "    # Draw the conture\n",
    "    xgrid = numpy.linspace(-2,2)\n",
    "    ygrid = numpy.linspace(-2,2)\n",
    "    grid = numpy.array([[indicator(numpy.array([x,y])) for x in xgrid] for y in ygrid])\n",
    "    plt.contour(xgrid, ygrid, grid, (-1.0,0.0,1.0), colors=('red','black','blue'), linewidths=(1,3,1))\n",
    "    plt.axis('equal')   # Force same scale on both axes\n",
    "    plt.title('Kernel: '+str(kernel_type)+' sigma: '+str(sigma))\n",
    "    # Save\n",
    "    plt.savefig('Plots/'+str(kernel_type)+'_'+str(sigma)+'.png')\n",
    "    \n",
    "    plt.show() # Show the plot on the screen\n",
    "    "
   ]
  },
  {
   "cell_type": "code",
   "execution_count": 103,
   "metadata": {},
   "outputs": [],
   "source": [
    "def generate_data():\n",
    "    '''\n",
    "    Samples random data from 2 classes\n",
    "    '''\n",
    "    #Uncomment for debugging\n",
    "    numpy.random.seed(100)\n",
    "    classA = numpy.concatenate((numpy.random.randn(20,2) * 0.2 + [0.7,0.5],numpy.random.randn(20,2) * 0.2 + [-1,0.5]))\n",
    "    classB = numpy.random.randn(20,2) * 0.2 + [0.0,-0.3]\n",
    "    \n",
    "    inputs = numpy.concatenate((classA,classB))\n",
    "    targets = numpy.concatenate((numpy.ones(classA.shape[ 0 ] ) ,-numpy.ones(classB.shape[0])))\n",
    "    \n",
    "    # Permute\n",
    "    N = inputs.shape[0] # Number of rows (samples)\n",
    "    permute=list(range(N))\n",
    "    random.shuffle(permute)\n",
    "    inputs = inputs[permute,:]\n",
    "    targets = targets [permute]\n",
    "    \n",
    "    return classA, classB, inputs, targets"
   ]
  },
  {
   "cell_type": "code",
   "execution_count": 159,
   "metadata": {},
   "outputs": [
    {
     "name": "stdout",
     "output_type": "stream",
     "text": [
      "1.0\n"
     ]
    },
    {
     "data": {
      "image/png": "[encoded data removed]",
      "text/plain": [
       "<matplotlib.figure.Figure at 0x7f1c1a3412e8>"
      ]
     },
     "metadata": {
      "needs_background": "light"
     },
     "output_type": "display_data"
    }
   ],
   "source": [
    "global kernel_type, p, sigma, inputs, targets, P, b, C\n",
    "# Kernel parameters\n",
    "#kernel_type = \"linear\"\n",
    "#kernel_type = \"polynomial\"\n",
    "kernel_type = \"radial_basis\"\n",
    "p = 20\n",
    "sigma = 0.2\n",
    "C = None\n",
    "# Generated data\n",
    "classA,classB,inputs,targets = generate_data() # generate data\n",
    "targets = targets.reshape(len(targets),1)\n",
    "\n",
    "# Calculate matrix P\n",
    "P = numpy.array([[kernel(x_1,x_2) for x_1 in inputs] for x_2 in inputs])\n",
    "P = P * targets.dot(targets.T)\n",
    "\n",
    "# Solve\n",
    "a = solve(inputs.shape[0])\n",
    "nonzero = [(a[i], inputs[i,:], targets[i][0]) for i in range(len(a)) if abs(a[i]) > 10e-5]\n",
    "b = calc_b(nonzero)\n",
    "\n",
    "# plot\n",
    "visualize()\n"
   ]
  },
  {
   "cell_type": "code",
   "execution_count": null,
   "metadata": {
    "scrolled": true
   },
   "outputs": [],
   "source": []
  },
  {
   "cell_type": "code",
   "execution_count": null,
   "metadata": {},
   "outputs": [],
   "source": []
  },
  {
   "cell_type": "code",
   "execution_count": null,
   "metadata": {},
   "outputs": [],
   "source": []
  }
 ],
 "metadata": {
  "colab": {
   "authorship_tag": "ABX9TyNtGcHjeDlQMfEVV3vP5JSN",
   "collapsed_sections": [],
   "include_colab_link": true,
   "name": "Svm.ipynb",
   "provenance": [],
   "toc_visible": true
  },
  "kernelspec": {
   "display_name": "Python 3",
   "language": "python",
   "name": "python3"
  },
  "language_info": {
   "codemirror_mode": {
    "name": "ipython",
    "version": 3
   },
   "file_extension": ".py",
   "mimetype": "text/x-python",
   "name": "python",
   "nbconvert_exporter": "python",
   "pygments_lexer": "ipython3",
   "version": "3.6.9"
  }
 },
 "nbformat": 4,
 "nbformat_minor": 1
}
